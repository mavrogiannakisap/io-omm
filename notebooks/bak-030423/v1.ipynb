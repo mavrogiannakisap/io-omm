{
 "cells": [
  {
   "cell_type": "code",
   "execution_count": 1,
   "id": "f7243778",
   "metadata": {},
   "outputs": [],
   "source": [
    "import matplotlib.pyplot as plt"
   ]
  },
  {
   "cell_type": "markdown",
   "id": "24bf04bb",
   "metadata": {},
   "source": [
    "# RAM; 1MB Blocks; n=2..1024"
   ]
  },
  {
   "cell_type": "code",
   "execution_count": 2,
   "id": "86af4504",
   "metadata": {},
   "outputs": [],
   "source": [
    "por = [\n",
    "\t(1, 20, 0.0011485),\n",
    "\t(2, 20, 0.00531858),\n",
    "\t(3, 20, 0.0230095),\n",
    "\t(4, 20, 0.061907),\n",
    "\t(5, 20, 0.156209),\n",
    "\t(6, 20, 0.428383),\n",
    "\t(7, 20, 1.1237),\n",
    "\t(8, 20, 2.85392),\n",
    "\t(9, 20, 6.87596),\n",
    "\t(10, 20, 18.4779),\n",
    "]\n",
    "ofs = [\n",
    "\t(1, 20, 0.0143855),\n",
    "\t(2, 20, 0.076509),\n",
    "\t(3, 20, 0.187886),\n",
    "\t(4, 20, 0.486313),\n",
    "\t(5, 20, 1.11837),\n",
    "\t(6, 20, 2.3575),\n",
    "\t(7, 20, 5.06725),\n",
    "\t(8, 20, 10.5874),\n",
    "\t(9, 20, 24.9566),\n",
    "]\n"
   ]
  },
  {
   "cell_type": "code",
   "execution_count": 3,
   "id": "55ca9cac",
   "metadata": {},
   "outputs": [
    {
     "data": {
      "image/png": "[encoded data removed]",
      "text/plain": [
       "<Figure size 432x288 with 1 Axes>"
      ]
     },
     "metadata": {
      "needs_background": "light"
     },
     "output_type": "display_data"
    }
   ],
   "source": [
    "por_n = [x[0] for x in por]\n",
    "por_t = [x[2] for x in por]\n",
    "ofs_n = [x[0] for x in ofs]\n",
    "ofs_t = [x[2] for x in ofs]\n",
    "\n",
    "plt.plot(por_n, por_t, 'bo')\n",
    "plt.plot(ofs_n, ofs_t, 'r+')\n",
    "plt.show()"
   ]
  },
  {
   "cell_type": "markdown",
   "id": "5e2d7449",
   "metadata": {},
   "source": [
    "# Disk; 1MB Blocks; n=2..1024"
   ]
  },
  {
   "cell_type": "code",
   "execution_count": 4,
   "id": "5eaf5e1e",
   "metadata": {},
   "outputs": [],
   "source": [
    "por = [\n",
    "\t(1, 20, 0.00155475),\n",
    "\t(2, 20, 0.00625754),\n",
    "\t(3, 20, 0.0179902),\n",
    "\t(4, 20, 0.0550265),\n",
    "\t(5, 20, 0.166676),\n",
    "\t(6, 20, 0.409547),\n",
    "\t(7, 20, 1.12186),\n",
    "\t(8, 20, 2.98475),\n",
    "\t(9, 20, 7.02896),\n",
    "\t(10, 20, 18.0155),\n",
    "]\n",
    "ofs = [\n",
    "\t(1, 20, 0.0147665),\n",
    "\t(2, 20, 0.0851251),\n",
    "\t(3, 20, 0.218729),\n",
    "\t(4, 20, 0.490818),\n",
    "\t(5, 20, 1.10016),\n",
    "\t(6, 20, 2.40394),\n",
    "\t(7, 20, 5.16863),\n",
    "\t(8, 20, 11.3956),\n",
    "\t(9, 20, 22.6644),\n",
    "]"
   ]
  },
  {
   "cell_type": "code",
   "execution_count": 5,
   "id": "347908d9",
   "metadata": {},
   "outputs": [
    {
     "data": {
      "image/png": "[encoded data removed]",
      "text/plain": [
       "<Figure size 432x288 with 1 Axes>"
      ]
     },
     "metadata": {
      "needs_background": "light"
     },
     "output_type": "display_data"
    }
   ],
   "source": [
    "por_n = [x[0] for x in por]\n",
    "por_t = [x[2] for x in por]\n",
    "ofs_n = [x[0] for x in ofs]\n",
    "ofs_t = [x[2] for x in ofs]\n",
    "\n",
    "plt.plot(por_n, por_t, 'bo')\n",
    "plt.plot(ofs_n, ofs_t, 'r+')\n",
    "plt.show()"
   ]
  },
  {
   "cell_type": "markdown",
   "id": "79aeade6",
   "metadata": {},
   "source": [
    "# RAM; 1KB Blocks; n=2..1024"
   ]
  },
  {
   "cell_type": "code",
   "execution_count": 6,
   "id": "7795698a",
   "metadata": {},
   "outputs": [],
   "source": [
    "por = [\n",
    "\t(1, 10, 0.00147329),\n",
    "\t(2, 10, 0.00690933),\n",
    "\t(3, 10, 0.0177502),\n",
    "\t(4, 10, 0.0499186),\n",
    "\t(5, 10, 0.17124),\n",
    "\t(6, 10, 0.392731),\n",
    "\t(7, 10, 1.09866),\n",
    "\t(8, 10, 2.84821),\n",
    "\t(9, 10, 7.14808),\n",
    "\t(10, 10, 16.7743),\n",
    "]\n",
    "ofs = [\n",
    "\t(1, 10, 0.000656208),\n",
    "\t(2, 10, 0.00219958),\n",
    "\t(3, 10, 0.00492896),\n",
    "\t(4, 10, 0.0126646),\n",
    "\t(5, 10, 0.0241121),\n",
    "\t(6, 10, 0.0385965),\n",
    "\t(7, 10, 0.0602875),\n",
    "\t(8, 10, 0.095022),\n",
    "\t(9, 10, 0.132319),\n",
    "\t(10, 10, 0.19035),\n",
    "]"
   ]
  },
  {
   "cell_type": "code",
   "execution_count": 7,
   "id": "2b191145",
   "metadata": {},
   "outputs": [
    {
     "data": {
      "image/png": "[encoded data removed]",
      "text/plain": [
       "<Figure size 432x288 with 1 Axes>"
      ]
     },
     "metadata": {
      "needs_background": "light"
     },
     "output_type": "display_data"
    }
   ],
   "source": [
    "por_n = [x[0] for x in por]\n",
    "por_t = [x[2] for x in por]\n",
    "ofs_n = [x[0] for x in ofs]\n",
    "ofs_t = [x[2] for x in ofs]\n",
    "\n",
    "plt.plot(por_n, por_t, 'bo')\n",
    "plt.plot(ofs_n, ofs_t, 'r+')\n",
    "plt.show()"
   ]
  },
  {
   "cell_type": "markdown",
   "id": "42f56e4f",
   "metadata": {},
   "source": [
    "# Disk; 1KB Blocks; n=2..1024"
   ]
  },
  {
   "cell_type": "code",
   "execution_count": 8,
   "id": "e4cd10db",
   "metadata": {},
   "outputs": [],
   "source": [
    "por = [\n",
    "\t(1, 10, 0.00110625),\n",
    "\t(2, 10, 0.00678217),\n",
    "\t(3, 10, 0.0204115),\n",
    "\t(4, 10, 0.0646802),\n",
    "\t(5, 10, 0.154447),\n",
    "\t(6, 10, 0.412108),\n",
    "\t(7, 10, 1.11895),\n",
    "\t(8, 10, 2.83523),\n",
    "\t(9, 10, 7.25935),\n",
    "\t(10, 10, 17.5235),\n",
    "]\n",
    "ofs = [\n",
    "\t(1, 10, 0.000497584),\n",
    "\t(2, 10, 0.00238592),\n",
    "\t(3, 10, 0.00724621),\n",
    "\t(4, 10, 0.0145924),\n",
    "\t(5, 10, 0.0197942),\n",
    "\t(6, 10, 0.0622553),\n",
    "\t(7, 10, 0.0648723),\n",
    "\t(8, 10, 0.137767),\n",
    "\t(9, 10, 0.141152),\n",
    "\t(10, 10, 0.196839),\n",
    "]"
   ]
  },
  {
   "cell_type": "code",
   "execution_count": 9,
   "id": "3c28fd94",
   "metadata": {},
   "outputs": [
    {
     "data": {
      "image/png": "[encoded data removed]",
      "text/plain": [
       "<Figure size 432x288 with 1 Axes>"
      ]
     },
     "metadata": {
      "needs_background": "light"
     },
     "output_type": "display_data"
    }
   ],
   "source": [
    "por_n = [x[0] for x in por]\n",
    "por_t = [x[2] for x in por]\n",
    "ofs_n = [x[0] for x in ofs]\n",
    "ofs_t = [x[2] for x in ofs]\n",
    "\n",
    "plt.plot(por_n, por_t, 'bo')\n",
    "plt.plot(ofs_n, ofs_t, 'r+')\n",
    "plt.show()"
   ]
  },
  {
   "cell_type": "markdown",
   "id": "117a094c",
   "metadata": {},
   "source": [
    "# RAM; 32KB Blocks; n=2..1024"
   ]
  },
  {
   "cell_type": "code",
   "execution_count": 12,
   "id": "6d15188e",
   "metadata": {},
   "outputs": [],
   "source": [
    "por = [\n",
    "\t(1, 15, 0.00161717),\n",
    "\t(2, 15, 0.004406),\n",
    "\t(3, 15, 0.017569),\n",
    "\t(4, 15, 0.0718084),\n",
    "\t(5, 15, 0.178658),\n",
    "\t(6, 15, 0.417191),\n",
    "\t(7, 15, 1.11805),\n",
    "\t(8, 15, 2.8097),\n",
    "\t(9, 15, 6.7994),\n",
    "\t(10, 15, 16.9776),\n",
    "]\n",
    "ofs = [\n",
    "\t(1, 15, 0.00111396),\n",
    "\t(2, 15, 0.00471346),\n",
    "\t(3, 15, 0.0139913),\n",
    "\t(4, 15, 0.035096),\n",
    "\t(5, 15, 0.066259),\n",
    "\t(6, 15, 0.119137),\n",
    "\t(7, 15, 0.195359),\n",
    "\t(8, 15, 0.38005),\n",
    "\t(9, 15, 0.701885),\n",
    "\t(10, 15, 1.36184),\n",
    "]"
   ]
  },
  {
   "cell_type": "code",
   "execution_count": 13,
   "id": "c8d7ea72",
   "metadata": {},
   "outputs": [
    {
     "data": {
      "image/png": "[encoded data removed]",
      "text/plain": [
       "<Figure size 432x288 with 1 Axes>"
      ]
     },
     "metadata": {
      "needs_background": "light"
     },
     "output_type": "display_data"
    }
   ],
   "source": [
    "por_n = [x[0] for x in por]\n",
    "por_t = [x[2] for x in por]\n",
    "ofs_n = [x[0] for x in ofs]\n",
    "ofs_t = [x[2] for x in ofs]\n",
    "\n",
    "plt.plot(por_n, por_t, 'bo')\n",
    "plt.plot(ofs_n, ofs_t, 'r+')\n",
    "plt.show()"
   ]
  },
  {
   "cell_type": "markdown",
   "id": "659ebf22",
   "metadata": {},
   "source": [
    "# Disk; 1KB Blocks; n=2..1024"
   ]
  },
  {
   "cell_type": "code",
   "execution_count": 14,
   "id": "604f823c",
   "metadata": {},
   "outputs": [],
   "source": [
    "por = [\n",
    "\t(1, 15, 0.00164087),\n",
    "\t(2, 15, 0.00583154),\n",
    "\t(3, 15, 0.0186137),\n",
    "\t(4, 15, 0.0478235),\n",
    "\t(5, 15, 0.168443),\n",
    "\t(6, 15, 0.428408),\n",
    "\t(7, 15, 1.2562),\n",
    "\t(8, 15, 2.98637),\n",
    "\t(9, 15, 7.23245),\n",
    "\t(10, 15, 17.9764),\n",
    "]\n",
    "ofs = [\n",
    "\t(1, 15, 0.000836416),\n",
    "\t(2, 15, 0.00663208),\n",
    "\t(3, 15, 0.0176825),\n",
    "\t(4, 15, 0.0390374),\n",
    "\t(5, 15, 0.0746905),\n",
    "\t(6, 15, 0.119274),\n",
    "\t(7, 15, 0.212695),\n",
    "\t(8, 15, 0.387466),\n",
    "\t(9, 15, 0.720515),\n",
    "\t(10, 15, 1.43728),\n",
    "]\n"
   ]
  },
  {
   "cell_type": "code",
   "execution_count": 15,
   "id": "c5ac3a50",
   "metadata": {},
   "outputs": [
    {
     "data": {
      "image/png": "[encoded data removed]",
      "text/plain": [
       "<Figure size 432x288 with 1 Axes>"
      ]
     },
     "metadata": {
      "needs_background": "light"
     },
     "output_type": "display_data"
    }
   ],
   "source": [
    "por_n = [x[0] for x in por]\n",
    "por_t = [x[2] for x in por]\n",
    "ofs_n = [x[0] for x in ofs]\n",
    "ofs_t = [x[2] for x in ofs]\n",
    "\n",
    "plt.plot(por_n, por_t, 'bo')\n",
    "plt.plot(ofs_n, ofs_t, 'r+')\n",
    "plt.show()"
   ]
  },
  {
   "cell_type": "markdown",
   "id": "4261fb84",
   "metadata": {},
   "source": [
    "# Disk; 1MB Blocks; n=2..1024"
   ]
  },
  {
   "cell_type": "code",
   "execution_count": 16,
   "id": "ee4eefb3",
   "metadata": {},
   "outputs": [],
   "source": [
    "por = [\n",
    "\t(1, 20, 0.0390617),\n",
    "\t(2, 20, 0.160604),\n",
    "\t(3, 20, 0.512288),\n",
    "\t(4, 20, 1.39481),\n",
    "\t(5, 20, 3.60586),\n",
    "\t(6, 20, 8.90347),\n",
    "\t(7, 20, 22.0605),\n",
    "\t(8, 20, 52.2259),\n",
    "\t(9, 20, 126.46),\n",
    "\t(10, 20, 298.581),\n",
    "]\n",
    "ofs = [\n",
    "\t(1, 20, 0.0248877),\n",
    "\t(2, 20, 0.06593),\n",
    "\t(3, 20, 0.212795),\n",
    "\t(4, 20, 0.536813),\n",
    "\t(5, 20, 1.16859),\n",
    "\t(6, 20, 2.5337),\n",
    "\t(7, 20, 5.14501),\n",
    "\t(8, 20, 10.6714),\n",
    "\t(9, 20, 22.2434),\n",
    "]"
   ]
  },
  {
   "cell_type": "code",
   "execution_count": 17,
   "id": "6d7087b0",
   "metadata": {},
   "outputs": [
    {
     "data": {
      "image/png": "[encoded data removed]",
      "text/plain": [
       "<Figure size 432x288 with 1 Axes>"
      ]
     },
     "metadata": {
      "needs_background": "light"
     },
     "output_type": "display_data"
    }
   ],
   "source": [
    "por_n = [x[0] for x in por]\n",
    "por_t = [x[2] for x in por]\n",
    "ofs_n = [x[0] for x in ofs]\n",
    "ofs_t = [x[2] for x in ofs]\n",
    "\n",
    "plt.plot(por_n, por_t, 'bo')\n",
    "plt.plot(ofs_n, ofs_t, 'r+')\n",
    "plt.show()"
   ]
  },
  {
   "cell_type": "markdown",
   "id": "ded0f2b2",
   "metadata": {},
   "source": [
    "# RAM; 1MB Blocks; n=2..1024"
   ]
  },
  {
   "cell_type": "code",
   "execution_count": 18,
   "id": "5919b1f7",
   "metadata": {},
   "outputs": [],
   "source": [
    "por = [\n",
    "\t(1, 20, 0.0312909),\n",
    "\t(2, 20, 0.153774),\n",
    "\t(3, 20, 0.49283),\n",
    "\t(4, 20, 1.37636),\n",
    "\t(5, 20, 3.55188),\n",
    "\t(6, 20, 8.95242),\n",
    "]\n",
    "ofs = [\n",
    "\t(1, 20, 0.012873),\n",
    "\t(2, 20, 0.087086),\n",
    "\t(3, 20, 0.195727),\n",
    "\t(4, 20, 0.476314),\n",
    "\t(5, 20, 1.12598),\n",
    "\t(6, 20, 2.40141),\n",
    "]"
   ]
  },
  {
   "cell_type": "code",
   "execution_count": 19,
   "id": "2761ad75",
   "metadata": {},
   "outputs": [
    {
     "data": {
      "image/png": "[encoded data removed]",
      "text/plain": [
       "<Figure size 432x288 with 1 Axes>"
      ]
     },
     "metadata": {
      "needs_background": "light"
     },
     "output_type": "display_data"
    }
   ],
   "source": [
    "por_n = [x[0] for x in por]\n",
    "por_t = [x[2] for x in por]\n",
    "ofs_n = [x[0] for x in ofs]\n",
    "ofs_t = [x[2] for x in ofs]\n",
    "\n",
    "plt.plot(por_n, por_t, 'bo')\n",
    "plt.plot(ofs_n, ofs_t, 'r+')\n",
    "plt.show()"
   ]
  },
  {
   "cell_type": "code",
   "execution_count": null,
   "id": "ed925ce6",
   "metadata": {},
   "outputs": [],
   "source": []
  }
 ],
 "metadata": {
  "kernelspec": {
   "display_name": "Python 3 (ipykernel)",
   "language": "python",
   "name": "python3"
  },
  "language_info": {
   "codemirror_mode": {
    "name": "ipython",
    "version": 3
   },
   "file_extension": ".py",
   "mimetype": "text/x-python",
   "name": "python",
   "nbconvert_exporter": "python",
   "pygments_lexer": "ipython3",
   "version": "3.10.2"
  }
 },
 "nbformat": 4,
 "nbformat_minor": 5
}
